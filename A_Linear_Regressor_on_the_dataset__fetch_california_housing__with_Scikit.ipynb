{
  "nbformat": 4,
  "nbformat_minor": 0,
  "metadata": {
    "colab": {
      "provenance": []
    },
    "kernelspec": {
      "name": "python3",
      "display_name": "Python 3"
    },
    "language_info": {
      "name": "python"
    }
  },
  "cells": [
    {
      "cell_type": "markdown",
      "source": [
        "# The below project implements a Single and/or Multi-Linear Regressor on the dataset \"fetch_california_housing\" from Scikit."
      ],
      "metadata": {
        "id": "SlAK1zNU5Ev3"
      }
    },
    {
      "cell_type": "code",
      "execution_count": 61,
      "metadata": {
        "colab": {
          "base_uri": "https://localhost:8080/"
        },
        "id": "7qbelh3o4a7V",
        "outputId": "8f66b322-923b-444e-f545-361916ef418b"
      },
      "outputs": [
        {
          "output_type": "stream",
          "name": "stdout",
          "text": [
            "(15480, 8) (5160, 8)\n",
            "[ 4.39091042e-01  9.59864665e-03 -1.03311173e-01  6.16730152e-01\n",
            " -7.63275197e-06 -4.48838256e-03 -4.17353284e-01 -4.30614462e-01] -36.609593778714334\n",
            "The model prediction is Correct\n",
            "[2.27826207 2.79606672 1.90887117 ... 2.15678592 3.03507742 2.89088222] [[-34.78657559 -36.39842355 -37.19465247 ... -36.62835788 -50.20696377\n",
            "   13.79382901]\n",
            " [-34.07182319 -36.30243709 -37.24053847 ... -36.62315309 -50.76621717\n",
            "   14.18999431]\n",
            " [-34.70011856 -36.33123303 -37.22230255 ... -36.62265548 -52.7402982\n",
            "   15.85647228]\n",
            " ...\n",
            " [-35.01586893 -36.45601543 -36.98325398 ... -36.61806029 -50.88307609\n",
            "   14.46558757]\n",
            " [-34.18875314 -36.25444385 -37.08412476 ... -36.62309696 -50.7578701\n",
            "   14.34932166]\n",
            " [-34.51780796 -36.2640425  -37.15319839 ... -36.62263457 -52.32711845\n",
            "   16.11484096]]\n",
            "0.5911695436410476 0.5404128061709095\n"
          ]
        }
      ],
      "source": [
        "# Load the required modules\n",
        "from sklearn.linear_model import LinearRegression\n",
        "from sklearn.datasets import fetch_california_housing\n",
        "from sklearn.model_selection import train_test_split\n",
        "from sklearn.metrics import r2_score, mean_squared_error\n",
        "import matplotlib.pyplot as plt\n",
        "\n",
        "# Load the dataset and split it into train and test sets\n",
        "dataset = fetch_california_housing()\n",
        "\n",
        "X = dataset['data']\n",
        "y = dataset['target']\n",
        "\n",
        "X_train, X_test, y_train, y_test = train_test_split(X, y, random_state=0)\n",
        "print (X_train.shape, X_test.shape)\n",
        "\n",
        "# Below 3 lines of code to be used in case of single linear regressor!!\n",
        "# plt.scatter(X[..., 0-7], y)\n",
        "# plt.xlabel('California Census Block Group')\n",
        "# plt.ylabel('Median house value (in hundreds of thousands of dollars)')\n",
        "\n",
        "# Model development & learning\n",
        "model = LinearRegression()\n",
        "model.fit(X_train, y_train)\n",
        "y_predict = model.predict(X_test)\n",
        "\n",
        "# Below 3 lines of code to be used in case of single linear regressor!!\n",
        "# plt.scatter(X[..., 0-7], y)\n",
        "# plt.plot(X_test, y_predict, color = 'red')\n",
        "# plt.xlabel('California Census Block Group')\n",
        "# plt.ylabel('Median house value (in hundreds of thousands of dollars)')\n",
        "\n",
        "# Compute y = (wX + b)\n",
        "w = model.coef_\n",
        "b = model.intercept_\n",
        "print(w, b)\n",
        "\n",
        "# Validating y = (wX + b)\n",
        "if y_predict.all() == (w*X_test + b).all():\n",
        "  print(\"The model prediction is Correct\")\n",
        "else:\n",
        "  print(\"Error in prediction. Please check the dataset.\")\n",
        "print(y_predict, w*X_test + b)\n",
        "\n",
        "# R2 and MSE\n",
        "r2_score = r2_score(y_test, y_predict)\n",
        "mse_error = mean_squared_error(y_test, y_predict)\n",
        "print(r2_score, mse_error)"
      ]
    }
  ]
}